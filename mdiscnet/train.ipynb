{
 "cells": [
  {
   "cell_type": "code",
   "execution_count": 1,
   "metadata": {},
   "outputs": [],
   "source": [
    "import importlib\n",
    "import numpy as np\n",
    "import matplotlib.pyplot as plt\n",
    "from types import SimpleNamespace\n",
    "import model\n",
    "import train\n",
    "import lossfn\n",
    "import plots\n",
    "from custom_dataset import CustomDataset\n",
    "from preprocess import ClipTransform, ReplaceNaN\n",
    "import torch\n",
    "import torchvision\n",
    "from torch.utils.data import DataLoader\n",
    "from torchvision import transforms\n",
    "from util import save_model, load_model, save_result, load_result\n",
    "device = torch.device(\"cuda\" if torch.cuda.is_available() else \"cpu\")\n",
    "torch.set_float32_matmul_precision('high') # better performance for float32 matrix multiplication\n",
    "%load_ext autoreload\n",
    "%autoreload 2"
   ]
  },
  {
   "cell_type": "code",
   "execution_count": 2,
   "metadata": {
    "tags": []
   },
   "outputs": [
    {
     "name": "stdout",
     "output_type": "stream",
     "text": [
      "Sun Aug 27 00:23:05 2023       \n",
      "+-----------------------------------------------------------------------------+\n",
      "| NVIDIA-SMI 515.65.01    Driver Version: 515.65.01    CUDA Version: 11.7     |\n",
      "|-------------------------------+----------------------+----------------------+\n",
      "| GPU  Name        Persistence-M| Bus-Id        Disp.A | Volatile Uncorr. ECC |\n",
      "| Fan  Temp  Perf  Pwr:Usage/Cap|         Memory-Usage | GPU-Util  Compute M. |\n",
      "|                               |                      |               MIG M. |\n",
      "|===============================+======================+======================|\n",
      "|   0  NVIDIA A100 80G...  Off  | 00000000:17:00.0 Off |                    0 |\n",
      "| N/A   49C    P0   301W / 300W |  51892MiB / 81920MiB |     73%      Default |\n",
      "|                               |                      |             Disabled |\n",
      "+-------------------------------+----------------------+----------------------+\n",
      "|   1  NVIDIA A100 80G...  Off  | 00000000:31:00.0 Off |                    0 |\n",
      "| N/A   50C    P0   187W / 300W |  41980MiB / 81920MiB |    100%      Default |\n",
      "|                               |                      |             Disabled |\n",
      "+-------------------------------+----------------------+----------------------+\n",
      "|   2  NVIDIA A100 80G...  Off  | 00000000:B1:00.0 Off |                    0 |\n",
      "| N/A   47C    P0    82W / 300W |  49068MiB / 81920MiB |    100%      Default |\n",
      "|                               |                      |             Disabled |\n",
      "+-------------------------------+----------------------+----------------------+\n",
      "|   3  NVIDIA A100 80G...  Off  | 00000000:CA:00.0 Off |                    0 |\n",
      "| N/A   31C    P0    52W / 300W |      2MiB / 81920MiB |      0%      Default |\n",
      "|                               |                      |             Disabled |\n",
      "+-------------------------------+----------------------+----------------------+\n",
      "                                                                               \n",
      "+-----------------------------------------------------------------------------+\n",
      "| Processes:                                                                  |\n",
      "|  GPU   GI   CI        PID   Type   Process name                  GPU Memory |\n",
      "|        ID   ID                                                   Usage      |\n",
      "|=============================================================================|\n",
      "|    0   N/A  N/A      4360      C   ...onda/envs/salt/bin/python    51043MiB |\n",
      "|    0   N/A  N/A     50271      C   ...da/envs/nerf_1/bin/python      835MiB |\n",
      "|    1   N/A  N/A      4361      C   ...onda/envs/salt/bin/python    38793MiB |\n",
      "|    1   N/A  N/A     50271      C   ...da/envs/nerf_1/bin/python     3175MiB |\n",
      "|    2   N/A  N/A      4362      C   ...onda/envs/salt/bin/python    46813MiB |\n",
      "|    2   N/A  N/A     42459      C   ...uitive_Physics/bin/python     2243MiB |\n",
      "+-----------------------------------------------------------------------------+\n"
     ]
    }
   ],
   "source": [
    "!nvidia-smi"
   ]
  },
  {
   "cell_type": "markdown",
   "metadata": {
    "tags": []
   },
   "source": [
    "## Dataset and Dataloader"
   ]
  },
  {
   "cell_type": "code",
   "execution_count": 2,
   "metadata": {},
   "outputs": [],
   "source": [
    "root_dir = './data/MDISC/small_dataset/train/train_v2d_alpha_cubic_512x512/'\n",
    "labels_path = root_dir+'train_labels.txt'\n",
    "\n",
    "width = 512\n",
    "mean = [-3.5877]\n",
    "std=[1.3475]\n",
    "\n",
    "# transforms.ToTensor assumes input dimensions (H x W x C)\n",
    "transform=transforms.Compose([transforms.ToTensor(),\n",
    "                              torch.log,\n",
    "                              ClipTransform(min_value=-21), #-inf resulted from log 0\n",
    "                              ReplaceNaN(constant=-21), # NaN resulted from log -ve values\n",
    "                              transforms.Normalize(mean=mean, std=std), # mean and std determined in `preprocess.ipynb`\n",
    "                             ])\n",
    "dataset = CustomDataset(root_dir=root_dir, labels_path=labels_path, transform=transform)"
   ]
  },
  {
   "cell_type": "code",
   "execution_count": 3,
   "metadata": {},
   "outputs": [
    {
     "data": {
      "text/plain": [
       "(torch.float32, torch.Size([1, 512, 512]), 10201)"
      ]
     },
     "execution_count": 3,
     "metadata": {},
     "output_type": "execute_result"
    }
   ],
   "source": [
    "dataset[0][0].dtype, dataset[0][0].shape, len(dataset.labels)"
   ]
  },
  {
   "cell_type": "code",
   "execution_count": 4,
   "metadata": {
    "id": "fRgDfr6_o5ED",
    "tags": []
   },
   "outputs": [],
   "source": [
    "batch_size = 32\n",
    "shuffle = True\n",
    "num_workers = 1\n",
    "dataloader = DataLoader(dataset, batch_size=batch_size, shuffle=shuffle, num_workers=num_workers)"
   ]
  },
  {
   "cell_type": "markdown",
   "metadata": {},
   "source": [
    "### Checking dataloader samples"
   ]
  },
  {
   "cell_type": "code",
   "execution_count": 7,
   "metadata": {},
   "outputs": [
    {
     "name": "stdout",
     "output_type": "stream",
     "text": [
      "torch.Size([32, 1, 512, 512]) (32,) kh1.26e+07_rmp92.50\n",
      "Plotting kh1.26e+07_rmp92.50\n"
     ]
    },
    {
     "data": {
      "image/png": "[encoded data removed]",
      "text/plain": [
       "<Figure size 640x480 with 2 Axes>"
      ]
     },
     "metadata": {},
     "output_type": "display_data"
    }
   ],
   "source": [
    "for x, y in dataloader:\n",
    "    # Extract the data and labels from the batch\n",
    "    x = x.to(device).float() # GPU\n",
    "    y = np.array(y)\n",
    "    print(x.shape, y.shape, y[0])\n",
    "    break\n",
    "\n",
    "print(f'Plotting {y[0]}')\n",
    "fig, ax = plt.subplots()\n",
    "s = plt.imshow(x[0].cpu().detach().numpy().squeeze(),\n",
    "                cmap=\"jet\")\n",
    "plt.colorbar(s, label=r'$log_{10}(\\alpha)$');"
   ]
  },
  {
   "cell_type": "code",
   "execution_count": 8,
   "metadata": {},
   "outputs": [
    {
     "data": {
      "text/plain": [
       "(tensor(0), torch.Size([512, 512]))"
      ]
     },
     "execution_count": 8,
     "metadata": {},
     "output_type": "execute_result"
    },
    {
     "data": {
      "image/png": "[encoded data removed]",
      "text/plain": [
       "<Figure size 640x480 with 1 Axes>"
      ]
     },
     "metadata": {},
     "output_type": "display_data"
    }
   ],
   "source": [
    "plt.hist(x[0][0].cpu().numpy().flatten()); np.isnan(x[0][0].cpu()).sum(), x[0][0].shape"
   ]
  },
  {
   "cell_type": "markdown",
   "metadata": {},
   "source": [
    "## Model"
   ]
  },
  {
   "cell_type": "code",
   "execution_count": 5,
   "metadata": {},
   "outputs": [],
   "source": [
    "from model import VAE"
   ]
  },
  {
   "cell_type": "code",
   "execution_count": 6,
   "metadata": {},
   "outputs": [],
   "source": [
    "beta = 1.0\n",
    "vae = VAE(image_channels=1, h_dim=256 * 1 * 1, z_dim=2, beta=beta, device=device)\n",
    "vae = torch.compile(vae) # Pytorch 2.0 acceleration"
   ]
  },
  {
   "cell_type": "markdown",
   "metadata": {},
   "source": [
    "## Training (+ wandb)"
   ]
  },
  {
   "cell_type": "code",
   "execution_count": 7,
   "metadata": {},
   "outputs": [],
   "source": [
    "from train import train_model\n",
    "import wandb"
   ]
  },
  {
   "cell_type": "code",
   "execution_count": 8,
   "metadata": {},
   "outputs": [],
   "source": [
    "output_dir='my_model'\n",
    "lr=1e-3\n",
    "epochs=3000\n",
    "\n",
    "# 1. Organize your hyperparameters\n",
    "config = SimpleNamespace(# training hyperparameters\n",
    "                         batch_size=batch_size, \n",
    "                         lr=lr,\n",
    "                         epochs=epochs,\n",
    "                         num_workers=num_workers,\n",
    "                         \n",
    "                         # network hyperparameters \n",
    "                         beta=beta,\n",
    "                         )"
   ]
  },
  {
   "cell_type": "code",
   "execution_count": 9,
   "metadata": {
    "id": "GqHwzUiMo5EF"
   },
   "outputs": [
    {
     "name": "stderr",
     "output_type": "stream",
     "text": [
      "\u001b[34m\u001b[1mwandb\u001b[0m: Currently logged in as: \u001b[33mikitcheng\u001b[0m. Use \u001b[1m`wandb login --relogin`\u001b[0m to force relogin\n"
     ]
    },
    {
     "data": {
      "text/plain": [
       "True"
      ]
     },
     "execution_count": 9,
     "metadata": {},
     "output_type": "execute_result"
    }
   ],
   "source": [
    "wandb.login(anonymous=\"allow\")"
   ]
  },
  {
   "cell_type": "code",
   "execution_count": null,
   "metadata": {},
   "outputs": [
    {
     "data": {
      "text/html": [
       "Tracking run with wandb version 0.15.8"
      ],
      "text/plain": [
       "<IPython.core.display.HTML object>"
      ]
     },
     "metadata": {},
     "output_type": "display_data"
    },
    {
     "data": {
      "text/html": [
       "Run data is saved locally in <code>/home/ikc19/PhD/Code/mdisc/mdiscnet/wandb/run-20230828_182018-t31z1ck9</code>"
      ],
      "text/plain": [
       "<IPython.core.display.HTML object>"
      ]
     },
     "metadata": {},
     "output_type": "display_data"
    },
    {
     "data": {
      "text/html": [
       "Resuming run <strong><a href='https://wandb.ai/ikitcheng/mdiscnet/runs/t31z1ck9' target=\"_blank\">ancient-mountain-16</a></strong> to <a href='https://wandb.ai/ikitcheng/mdiscnet' target=\"_blank\">Weights & Biases</a> (<a href='https://wandb.me/run' target=\"_blank\">docs</a>)<br/>"
      ],
      "text/plain": [
       "<IPython.core.display.HTML object>"
      ]
     },
     "metadata": {},
     "output_type": "display_data"
    },
    {
     "data": {
      "text/html": [
       " View project at <a href='https://wandb.ai/ikitcheng/mdiscnet' target=\"_blank\">https://wandb.ai/ikitcheng/mdiscnet</a>"
      ],
      "text/plain": [
       "<IPython.core.display.HTML object>"
      ]
     },
     "metadata": {},
     "output_type": "display_data"
    },
    {
     "data": {
      "text/html": [
       " View run at <a href='https://wandb.ai/ikitcheng/mdiscnet/runs/t31z1ck9' target=\"_blank\">https://wandb.ai/ikitcheng/mdiscnet/runs/t31z1ck9</a>"
      ],
      "text/plain": [
       "<IPython.core.display.HTML object>"
      ]
     },
     "metadata": {},
     "output_type": "display_data"
    },
    {
     "name": "stdout",
     "output_type": "stream",
     "text": [
      "Checkpoint saved!\n",
      "Checkpoint saved!\n",
      "Checkpoint saved!\n",
      "Checkpoint saved!\n",
      "Epoch: 100/3000, Loss: 1012.8015\n",
      "Checkpoint saved!\n",
      "Checkpoint saved!\n",
      "Checkpoint saved!\n"
     ]
    }
   ],
   "source": [
    "vae, hist = train_model(vae, dataloader, config, save_dir=f'./my_model/beta{beta}_epoch{epochs}_batchsize{batch_size}_lr{lr}/')"
   ]
  },
  {
   "cell_type": "code",
   "execution_count": 30,
   "metadata": {},
   "outputs": [],
   "source": [
    "# save the model and history\n",
    "save_model(vae.eval(), model_path=f'./my_model/beta{beta}_epoch{epochs}_batchsize{batch_size}_lr{lr}/vae_beta{beta}_epoch{epochs}_batchsize{batch_size}_lr{lr}.pth')\n",
    "save_result(hist, filename=f'./my_model/beta{beta}_epoch{epochs}_batchsize{batch_size}_lr{lr}/hist_vae_beta{beta}_epoch{epochs}_batchsize{batch_size}_lr{lr}.pkl')"
   ]
  },
  {
   "cell_type": "code",
   "execution_count": null,
   "metadata": {},
   "outputs": [],
   "source": []
  }
 ],
 "metadata": {
  "colab": {
   "provenance": []
  },
  "interpreter": {
   "hash": "3efa06c4da850a09a4898b773c7e91b0da3286dbbffa369a8099a14a8fa43098"
  },
  "kernelspec": {
   "display_name": "Python 3 (ipykernel)",
   "language": "python",
   "name": "python3"
  },
  "language_info": {
   "codemirror_mode": {
    "name": "ipython",
    "version": 3
   },
   "file_extension": ".py",
   "mimetype": "text/x-python",
   "name": "python",
   "nbconvert_exporter": "python",
   "pygments_lexer": "ipython3",
   "version": "3.9.7"
  }
 },
 "nbformat": 4,
 "nbformat_minor": 4
}
